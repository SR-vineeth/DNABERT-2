{
 "cells": [
  {
   "cell_type": "code",
   "execution_count": 4,
   "id": "09917a78",
   "metadata": {},
   "outputs": [
    {
     "name": "stdout",
     "output_type": "stream",
     "text": [
      "Requirement already satisfied: einops in d:\\softwares\\python\\lib\\site-packages (0.7.0)\n",
      "Requirement already satisfied: transformers==4.29.2 in c:\\users\\shash\\appdata\\roaming\\python\\python310\\site-packages (4.29.2)\n",
      "Requirement already satisfied: peft in c:\\users\\shash\\appdata\\roaming\\python\\python310\\site-packages (0.8.2)\n",
      "Requirement already satisfied: omegaconf in c:\\users\\shash\\appdata\\roaming\\python\\python310\\site-packages (2.3.0)\n",
      "Requirement already satisfied: torch in c:\\users\\shash\\appdata\\roaming\\python\\python310\\site-packages (2.2.0)\n",
      "Requirement already satisfied: accelerate in c:\\users\\shash\\appdata\\roaming\\python\\python310\\site-packages (0.27.0)\n",
      "Requirement already satisfied: numpy>=1.17 in d:\\softwares\\python\\lib\\site-packages (from transformers==4.29.2) (1.24.2)\n",
      "Requirement already satisfied: regex!=2019.12.17 in d:\\softwares\\python\\lib\\site-packages (from transformers==4.29.2) (2023.12.25)\n",
      "Requirement already satisfied: packaging>=20.0 in d:\\softwares\\python\\lib\\site-packages (from transformers==4.29.2) (23.1)\n",
      "Requirement already satisfied: tokenizers!=0.11.3,<0.14,>=0.11.1 in d:\\softwares\\python\\lib\\site-packages (from transformers==4.29.2) (0.13.3)\n",
      "Requirement already satisfied: pyyaml>=5.1 in d:\\softwares\\python\\lib\\site-packages (from transformers==4.29.2) (6.0)\n",
      "Requirement already satisfied: huggingface-hub<1.0,>=0.14.1 in d:\\softwares\\python\\lib\\site-packages (from transformers==4.29.2) (0.20.3)\n",
      "Requirement already satisfied: requests in d:\\softwares\\python\\lib\\site-packages (from transformers==4.29.2) (2.31.0)\n",
      "Requirement already satisfied: filelock in d:\\softwares\\python\\lib\\site-packages (from transformers==4.29.2) (3.9.0)\n",
      "Requirement already satisfied: tqdm>=4.27 in d:\\softwares\\python\\lib\\site-packages (from transformers==4.29.2) (4.66.2)\n",
      "Requirement already satisfied: safetensors in d:\\softwares\\python\\lib\\site-packages (from peft) (0.4.2)\n",
      "Requirement already satisfied: psutil in d:\\softwares\\python\\lib\\site-packages (from peft) (5.9.5)\n",
      "Requirement already satisfied: antlr4-python3-runtime==4.9.* in c:\\users\\shash\\appdata\\roaming\\python\\python310\\site-packages (from omegaconf) (4.9.3)\n",
      "Requirement already satisfied: fsspec in d:\\softwares\\python\\lib\\site-packages (from torch) (2024.2.0)\n",
      "Requirement already satisfied: sympy in c:\\users\\shash\\appdata\\roaming\\python\\python310\\site-packages (from torch) (1.12)\n",
      "Requirement already satisfied: networkx in c:\\users\\shash\\appdata\\roaming\\python\\python310\\site-packages (from torch) (3.2.1)\n",
      "Requirement already satisfied: typing-extensions>=4.8.0 in d:\\softwares\\python\\lib\\site-packages (from torch) (4.9.0)\n",
      "Requirement already satisfied: jinja2 in d:\\softwares\\python\\lib\\site-packages (from torch) (3.1.2)\n",
      "Requirement already satisfied: colorama in d:\\softwares\\python\\lib\\site-packages (from tqdm>=4.27->transformers==4.29.2) (0.4.6)\n",
      "Requirement already satisfied: MarkupSafe>=2.0 in d:\\softwares\\python\\lib\\site-packages (from jinja2->torch) (2.1.1)\n",
      "Requirement already satisfied: idna<4,>=2.5 in d:\\softwares\\python\\lib\\site-packages (from requests->transformers==4.29.2) (3.4)\n",
      "Requirement already satisfied: certifi>=2017.4.17 in d:\\softwares\\python\\lib\\site-packages (from requests->transformers==4.29.2) (2024.2.2)\n",
      "Requirement already satisfied: charset-normalizer<4,>=2 in d:\\softwares\\python\\lib\\site-packages (from requests->transformers==4.29.2) (3.3.2)\n",
      "Requirement already satisfied: urllib3<3,>=1.21.1 in d:\\softwares\\python\\lib\\site-packages (from requests->transformers==4.29.2) (2.2.0)\n",
      "Requirement already satisfied: mpmath>=0.19 in c:\\users\\shash\\appdata\\roaming\\python\\python310\\site-packages (from sympy->torch) (1.3.0)\n"
     ]
    },
    {
     "name": "stderr",
     "output_type": "stream",
     "text": [
      "\n",
      "[notice] A new release of pip available: 22.2.2 -> 24.0\n",
      "[notice] To update, run: python.exe -m pip install --upgrade pip\n"
     ]
    }
   ],
   "source": [
    "!pip install einops transformers==4.29.2 peft omegaconf torch accelerate --user\n",
    "\n"
   ]
  },
  {
   "cell_type": "code",
   "execution_count": 5,
   "id": "d5d041d5",
   "metadata": {},
   "outputs": [
    {
     "name": "stderr",
     "output_type": "stream",
     "text": [
      "C:\\Users\\shash/.cache\\huggingface\\modules\\transformers_modules\\zhihan1996\\DNABERT-2-117M\\25abaf0bd247444fcfa837109f12088114898d98\\bert_layers.py:125: UserWarning: Unable to import Triton; defaulting MosaicBERT attention implementation to pytorch (this will reduce throughput when using this model).\n",
      "  warnings.warn(\n"
     ]
    }
   ],
   "source": [
    "# Load model directly\n",
    "from transformers import AutoTokenizer, AutoModelForSequenceClassification\n",
    "\n",
    "tokenizer = AutoTokenizer.from_pretrained(\"Wifi1/DNABERT2\",trust_remote_code=True)\n",
    "model = AutoModelForSequenceClassification.from_pretrained(\"Wifi1/DNABERT2\",trust_remote_code=True)"
   ]
  },
  {
   "cell_type": "code",
   "execution_count": 6,
   "id": "f6c2fc87",
   "metadata": {},
   "outputs": [],
   "source": [
    "import torch\n"
   ]
  },
  {
   "cell_type": "code",
   "execution_count": 7,
   "id": "45cea5b8",
   "metadata": {},
   "outputs": [
    {
     "name": "stdout",
     "output_type": "stream",
     "text": [
      "Predicted class: 1\n"
     ]
    }
   ],
   "source": [
    "sequence = \"CCAAGTTTCTTTTGCACATGTCGTAAATAGCCTCATTATCGACCATGAAAGTACAATCTGCATGTTCCAATGTAGTATGTGTAGTTAAAACTGTGTTGTAAGGCTCAACCACAGAAGTAGACACTTGTGGAGCAGGGTATACGGCAAATTCCAGCTTGGATTTCTTACCGTATTCAGCGGATAGTTCTTCCAACAGTAAGGACCCTAGACCGGAACCAGTACCACCACCAAGAGAATGGGTAAACAAGAACCCTTGTAACCCATCACATTGGTCTGCCAGTTTTCTAATCCTATCCAGAACATCGCCCAAAATTTCTCTACCAACGGTGTAATGGCCTCTTGCATAATTATTAGCCGCGTCCTCCTTACCACTGATCAACTGTTCTGGATGGAACAAGTCCTTGTAAGGACCGTTACGGACTTCGTCAATAACGTTGGGCTCTAAATCCACGTAAATAGCCCTTGGAACGAACTTACCGTAGCCGGTTTCATGGAAAAAC\"\n",
    "\n",
    "# Tokenize the input sequence\n",
    "encoded_input = tokenizer(sequence, return_tensors='pt')\n",
    "# Pass the encoded input through the model\n",
    "with torch.no_grad():\n",
    "    outputs = model(input_ids=encoded_input['input_ids'], attention_mask=encoded_input['attention_mask'])\n",
    "    logits = outputs[0]\n",
    "    predicted_class = logits.argmax(-1).item()\n",
    "    print(f\"Predicted class: {predicted_class}\")\n"
   ]
  },
  {
   "cell_type": "code",
   "execution_count": 8,
   "id": "ee7988b5",
   "metadata": {},
   "outputs": [],
   "source": [
    "import pandas as pd\n",
    "import numpy as np\n"
   ]
  },
  {
   "cell_type": "code",
   "execution_count": 9,
   "id": "9bdef645",
   "metadata": {
    "scrolled": true
   },
   "outputs": [],
   "source": [
    "data = pd.read_csv('D:\\\\College Files\\\\Project School\\\\Main Project\\\\Datasets\\\\test1.csv')"
   ]
  },
  {
   "cell_type": "code",
   "execution_count": 10,
   "id": "72fd1b79",
   "metadata": {},
   "outputs": [
    {
     "data": {
      "text/plain": [
       "(1850,)"
      ]
     },
     "execution_count": 10,
     "metadata": {},
     "output_type": "execute_result"
    }
   ],
   "source": [
    "x_test=data[\"sequence\"].to_numpy()\n",
    "y_test=data[\"label\"].to_numpy()\n",
    "arr = np.array([])\n",
    "y_test.shape\n"
   ]
  },
  {
   "cell_type": "code",
   "execution_count": 11,
   "id": "46542eae",
   "metadata": {},
   "outputs": [],
   "source": [
    "from sklearn.metrics import accuracy_score"
   ]
  },
  {
   "cell_type": "code",
   "execution_count": 12,
   "id": "120fe0db",
   "metadata": {},
   "outputs": [
    {
     "name": "stderr",
     "output_type": "stream",
     "text": [
      "Predicting: 100%|██████████████████████████████████████████████████████████████████| 1850/1850 [06:27<00:00,  4.78it/s]\n"
     ]
    }
   ],
   "source": [
    "from tqdm import tqdm  # Import tqdm for progress tracking\n",
    "\n",
    "predictions = []  # Store predictions in a separate list\n",
    "\n",
    "# Wrap the loop with tqdm for progress tracking\n",
    "for sequence in tqdm(x_test, desc='Predicting'):\n",
    "    encoded_input = tokenizer(sequence, return_tensors='pt')\n",
    "\n",
    "    # Pass the encoded input through the model\n",
    "    with torch.no_grad():\n",
    "        outputs = model(input_ids=encoded_input['input_ids'], attention_mask=encoded_input['attention_mask'])\n",
    "        logits = outputs[0]\n",
    "        predicted_class = logits.argmax(-1).item()\n",
    "\n",
    "    predictions.append(predicted_class)  # Append prediction to the `predictions` list\n"
   ]
  },
  {
   "cell_type": "code",
   "execution_count": 13,
   "id": "d7a85e17",
   "metadata": {},
   "outputs": [
    {
     "data": {
      "text/plain": [
       "(1850,)"
      ]
     },
     "execution_count": 13,
     "metadata": {},
     "output_type": "execute_result"
    }
   ],
   "source": [
    "\n",
    "arr=np.array(predictions)\n",
    "arr.shape"
   ]
  },
  {
   "cell_type": "code",
   "execution_count": 14,
   "id": "1b677d8c",
   "metadata": {},
   "outputs": [
    {
     "name": "stdout",
     "output_type": "stream",
     "text": [
      "Accuracy: 94.48648648648648\n"
     ]
    }
   ],
   "source": [
    "accuracy = accuracy_score(y_test, arr)\n",
    "print(\"Accuracy:\", accuracy*100)"
   ]
  },
  {
   "cell_type": "code",
   "execution_count": 15,
   "id": "b677c2c8",
   "metadata": {},
   "outputs": [
    {
     "data": {
      "text/plain": [
       "BertForSequenceClassification(\n",
       "  (bert): BertModel(\n",
       "    (embeddings): BertEmbeddings(\n",
       "      (word_embeddings): Embedding(4096, 768, padding_idx=0)\n",
       "      (token_type_embeddings): Embedding(2, 768)\n",
       "      (LayerNorm): LayerNorm((768,), eps=1e-12, elementwise_affine=True)\n",
       "      (dropout): Dropout(p=0.1, inplace=False)\n",
       "    )\n",
       "    (encoder): BertEncoder(\n",
       "      (layer): ModuleList(\n",
       "        (0-11): 12 x BertLayer(\n",
       "          (attention): BertUnpadAttention(\n",
       "            (self): BertUnpadSelfAttention(\n",
       "              (dropout): Dropout(p=0.0, inplace=False)\n",
       "              (Wqkv): Linear(in_features=768, out_features=2304, bias=True)\n",
       "            )\n",
       "            (output): BertSelfOutput(\n",
       "              (dense): Linear(in_features=768, out_features=768, bias=True)\n",
       "              (LayerNorm): LayerNorm((768,), eps=1e-12, elementwise_affine=True)\n",
       "              (dropout): Dropout(p=0.1, inplace=False)\n",
       "            )\n",
       "          )\n",
       "          (mlp): BertGatedLinearUnitMLP(\n",
       "            (gated_layers): Linear(in_features=768, out_features=6144, bias=False)\n",
       "            (act): GELU(approximate='none')\n",
       "            (wo): Linear(in_features=3072, out_features=768, bias=True)\n",
       "            (dropout): Dropout(p=0.1, inplace=False)\n",
       "            (layernorm): LayerNorm((768,), eps=1e-12, elementwise_affine=True)\n",
       "          )\n",
       "        )\n",
       "      )\n",
       "    )\n",
       "    (pooler): BertPooler(\n",
       "      (dense): Linear(in_features=768, out_features=768, bias=True)\n",
       "      (activation): Tanh()\n",
       "    )\n",
       "  )\n",
       "  (dropout): Dropout(p=0.1, inplace=False)\n",
       "  (classifier): Linear(in_features=768, out_features=2, bias=True)\n",
       ")"
      ]
     },
     "execution_count": 15,
     "metadata": {},
     "output_type": "execute_result"
    }
   ],
   "source": [
    "model\n"
   ]
  },
  {
   "cell_type": "code",
   "execution_count": null,
   "id": "edfe9fad",
   "metadata": {},
   "outputs": [],
   "source": []
  }
 ],
 "metadata": {
  "kernelspec": {
   "display_name": "Python 3 (ipykernel)",
   "language": "python",
   "name": "python3"
  },
  "language_info": {
   "codemirror_mode": {
    "name": "ipython",
    "version": 3
   },
   "file_extension": ".py",
   "mimetype": "text/x-python",
   "name": "python",
   "nbconvert_exporter": "python",
   "pygments_lexer": "ipython3",
   "version": "3.10.7"
  }
 },
 "nbformat": 4,
 "nbformat_minor": 5
}
